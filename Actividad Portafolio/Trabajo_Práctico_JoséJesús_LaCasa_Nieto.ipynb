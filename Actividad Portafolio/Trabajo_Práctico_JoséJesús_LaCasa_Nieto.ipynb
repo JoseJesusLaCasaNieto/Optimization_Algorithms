{
  "cells": [
    {
      "cell_type": "markdown",
      "metadata": {
        "id": "hVbXYX-RfPWh"
      },
      "source": [
        "# Algoritmos de optimización - Trabajo Práctico<br>\n",
        "\n",
        "Nombre y Apellidos: José Jesús La Casa Nieto  <br>\n",
        "Url: https://github.com/JoseJesusLaCasaNieto/03MIAR---Algoritmos-de-Optimizacion---2024/tree/main/Trabajo_Practico <br>\n",
        "Google Colab: https://colab.research.google.com/drive/1U9wUobh8NYpL9eRDLN_GsSY71oOCQUVC?usp=sharing <br>\n",
        "\n",
        "Problemas:\n",
        ">1. Sesiones de doblaje <br>\n",
        ">2. Organizar los horarios de partidos de La Liga<br>\n",
        ">3. Configuración de Tribunales\n",
        "\n",
        "\n",
        "\n",
        "\n",
        "\n",
        "\n",
        "\n",
        "\n",
        "\n",
        "\n",
        "\n",
        "                                        "
      ]
    },
    {
      "cell_type": "markdown",
      "metadata": {
        "id": "8W_iueOoPEkB"
      },
      "source": [
        "### Descripción del problema:\n",
        "\n",
        "**Problema 2. Organizar los horarios de partidos de La Liga.**\n",
        "\n",
        "Desde la La Liga de fútbol profesional se pretende organizar los horarios de los partidos de\n",
        "liga de cada jornada. Se conocen algunos datos que nos deben llevar a diseñar un\n",
        "algoritmo que realice la asignación de los partidos a los horarios de forma que maximice la\n",
        "audiencia.\n",
        "\n",
        "Los horarios disponibles se conocen a priori y son los siguientes:\n",
        "\n",
        "Viernes - 20:00 /\n",
        "Sábado - 12:00, 16:00, 18:00, 20:00 /\n",
        "Domingo - 12:00, 16:00, 18:00, 20:00 /\n",
        "Lunes - 20:00"
      ]
    },
    {
      "cell_type": "code",
      "execution_count": null,
      "metadata": {
        "id": "K0IMUkpZPEkB"
      },
      "outputs": [],
      "source": [
        "# Diccionario con los horarios de la jornada\n",
        "horarios = {\n",
        "    \"Viernes\": [20],\n",
        "    \"Sábado\": [12, 16, 18, 20],\n",
        "    \"Domingo\": [12, 16, 18, 20],\n",
        "    \"Lunes\": [20]\n",
        "}"
      ]
    },
    {
      "cell_type": "markdown",
      "metadata": {
        "id": "vuTFyxIIPEkB"
      },
      "source": [
        "En primer lugar se clasifican los equipos en tres categorías según el numero de\n",
        "seguidores( que tiene relación directa con la audiencia). Hay 3 equipos en la\n",
        "categoría A, 11 equipos de categoría B y 6 equipos de categoría C.\n",
        "\n",
        "Se conoce estadísticamente la audiencia que genera cada partido según los equipos\n",
        "que se enfrentan y en horario de sábado a las 20h (el mejor en todos los casos)."
      ]
    },
    {
      "cell_type": "code",
      "execution_count": null,
      "metadata": {
        "id": "GWQrBTm7PEkB"
      },
      "outputs": [],
      "source": [
        "# Audiencia que se generan por encuentro en el mejor horario disponible\n",
        "audiencia_por_partido = {\n",
        "    (\"A\", \"A\"): 2,\n",
        "    (\"A\", \"B\"): 1.3,\n",
        "    (\"A\", \"C\"): 1,\n",
        "    (\"B\", \"A\"): 1.3,\n",
        "    (\"B\", \"B\"): 0.9,\n",
        "    (\"B\", \"C\"): 0.75,\n",
        "    (\"C\", \"A\"): 1,\n",
        "    (\"C\", \"B\"): 0.75,\n",
        "    (\"C\", \"C\"): 0.47\n",
        "}"
      ]
    },
    {
      "cell_type": "markdown",
      "metadata": {
        "id": "7GEydIUgPEkB"
      },
      "source": [
        "Si el horario del partido no se realiza a las 20:00 horas del sábado se sabe que se reduce\n",
        "según los coeficientes de una tabla.\n",
        "\n",
        "Debemos asignar obligatoriamente siempre un partido el viernes y un partido el lunes."
      ]
    },
    {
      "cell_type": "code",
      "execution_count": null,
      "metadata": {
        "id": "ZP3_t4JlPEkC"
      },
      "outputs": [],
      "source": [
        "# Reducción de los espectadores por horario\n",
        "reduccion_por_horario = {\n",
        "    \"V20\": 0.4,\n",
        "    \"S12\": 0.55,\n",
        "    \"S16\": 0.7,\n",
        "    \"S18\": 0.8,\n",
        "    \"S20\": 1,\n",
        "    \"D12\": 0.45,\n",
        "    \"D16\": 0.75,\n",
        "    \"D18\": 0.85,\n",
        "    \"D20\": 1,\n",
        "    \"L20\": 0.4\n",
        "}"
      ]
    },
    {
      "cell_type": "markdown",
      "metadata": {
        "id": "bBdhdGeqPEkC"
      },
      "source": [
        "Es posible la coincidencia de horarios pero en este\n",
        "caso la audiencia de cada partido se verá afectada y\n",
        "se estima que se reduce en porcentaje según la\n",
        "siguiente tabla dependiendo del número de\n",
        "coincidencias.\n",
        "\n",
        "Los cálculos asociados a una jornada de ejemplo se realizan según se muestra en la\n",
        "siguiente tabla:"
      ]
    },
    {
      "cell_type": "code",
      "execution_count": null,
      "metadata": {
        "id": "CEGWY9AoPEkC"
      },
      "outputs": [],
      "source": [
        "# Penalizaciones por coincidencias de horarios\n",
        "ponderacion_por_coincidencias = {\n",
        "    1: 1,\n",
        "    2: 0.75,\n",
        "    3: 0.55,\n",
        "    4: 0.4,\n",
        "    5: 0.3,\n",
        "    6: 0.25,\n",
        "    7: 0.22,\n",
        "    8: 0.2,\n",
        "    9: 0.2\n",
        "}"
      ]
    },
    {
      "cell_type": "markdown",
      "metadata": {
        "id": "Sbo9IqQtpaHZ"
      },
      "source": [
        "### Modelo\n",
        "\n",
        "- ¿Cómo represento el espacio de soluciones?\n",
        "- ¿Cuál es la función objetivo?\n",
        "- ¿Cómo implemento las restricciones?"
      ]
    },
    {
      "cell_type": "markdown",
      "metadata": {
        "id": "67p_vszBposu"
      },
      "source": [
        "- ¿Cómo represento el espacio de soluciones?"
      ]
    },
    {
      "cell_type": "code",
      "execution_count": null,
      "metadata": {
        "id": "AiskKkzZfy4e"
      },
      "outputs": [],
      "source": [
        "#Respuesta"
      ]
    },
    {
      "cell_type": "markdown",
      "metadata": {
        "id": "NEqJtdGYPEkC"
      },
      "source": [
        "La representación del espacio de soluciones que he realizado es a través de un diccionario de listas de listas. En un principio no era esa mi idea, pretendía una alternativa algo más simple. Sin embargo, a lo largo del desarrollo del código he visto necesario utilizar un diccionario con estas características porque se pueden manejar bien a la hora de realizar operaciones y, además, te están proporcionando constantemente información sobre los partidos y horarios. De esta manera, es fácil releer el problema y cambiar cualquier cosa que se quiera en el futuro con facilidad.\n",
        "\n",
        "Cada una de esas listas, es una lista de listas, que incluye el partido correspondiente en una tupla y el número de espectadores que tendrá el partido una vez se hayan aplicado todas las variables del problema. Con variables del problema me refiero a los espectadores que verán el partido por la categoría de los equipos, las penalizaciones por partidos duplicados y la ponderación por el horario."
      ]
    },
    {
      "cell_type": "markdown",
      "metadata": {
        "id": "ANB51PPePEkC"
      },
      "source": [
        "- ¿Cuál es la función objetivo?"
      ]
    },
    {
      "cell_type": "code",
      "execution_count": null,
      "metadata": {
        "id": "0iYn3jfgPEkD"
      },
      "outputs": [],
      "source": [
        "# Respuesta"
      ]
    },
    {
      "cell_type": "markdown",
      "metadata": {
        "id": "VlycLUGYPEkD"
      },
      "source": [
        "La función objetivo es aquella que nos devuelva un valor que representa el evento identificado por diversas variables de entrada. En este problema en particular, la función objetivo depende de una serie de variables de entrada como son los espectadores según las categorías de los equipos que se enfrentan, la variable horario y la variable coincidencia de partidos. Lo que buscamos con esa función objetivo es maximizarla para los datos de entrada. De esa manera, obtendremos el mayor número de espectadores posibles.\n",
        "\n",
        "La función objetivo es:\n",
        "\n",
        "$$ f = \\sum_{i=1}^{n} x_i \\cdot y_i \\cdot z_i $$\n",
        "\n",
        "La variable 'x' de la función es la base de espectadores para el partido según la categoría de los equipos y el mejor horario posible (es sobre las 20:00 del sábado o domingo), siendo la variable horario máxima. La variable 'y' se corresponde con la reducción por horario y la variable 'z' es la ponderación por coincidencias. La variable 'z' (representada en el diccionario 'ponderacion_por_coincidencias') la he ajustado invirtiendo los porcentajes, para que, al multiplicarla por 'x' e 'y', obtener como resultado los espectadores totales para ese partido con todas las variables aplicadas."
      ]
    },
    {
      "cell_type": "code",
      "execution_count": null,
      "metadata": {
        "id": "U6blzXUXPEkD"
      },
      "outputs": [],
      "source": [
        "# Diccionarios de las variables de la función objetivo\n",
        "audiencia_por_partido = {\n",
        "    (\"A\", \"A\"): 2,\n",
        "    (\"A\", \"B\"): 1.3,\n",
        "    (\"A\", \"C\"): 1,\n",
        "    (\"B\", \"A\"): 1.3,\n",
        "    (\"B\", \"B\"): 0.9,\n",
        "    (\"B\", \"C\"): 0.75,\n",
        "    (\"C\", \"A\"): 1,\n",
        "    (\"C\", \"B\"): 0.75,\n",
        "    (\"C\", \"C\"): 0.47\n",
        "}\n",
        "\n",
        "reduccion_por_horario = {\n",
        "    \"V20\": 0.4,\n",
        "    \"S12\": 0.55,\n",
        "    \"S16\": 0.7,\n",
        "    \"S18\": 0.8,\n",
        "    \"S20\": 1,\n",
        "    \"D12\": 0.45,\n",
        "    \"D16\": 0.75,\n",
        "    \"D18\": 0.85,\n",
        "    \"D20\": 1,\n",
        "    \"L20\": 0.4\n",
        "}\n",
        "\n",
        "ponderacion_por_coincidencias = {\n",
        "    1: 1,\n",
        "    2: 0.75,\n",
        "    3: 0.55,\n",
        "    4: 0.4,\n",
        "    5: 0.3,\n",
        "    6: 0.25,\n",
        "    7: 0.22,\n",
        "    8: 0.2,\n",
        "    9: 0.2\n",
        "}"
      ]
    },
    {
      "cell_type": "markdown",
      "metadata": {
        "id": "xfZXNYgrPEkD"
      },
      "source": [
        "- ¿Cómo implemento las restricciones?"
      ]
    },
    {
      "cell_type": "code",
      "execution_count": null,
      "metadata": {
        "id": "uzKI79rsPEkD"
      },
      "outputs": [],
      "source": [
        "# Respuesta"
      ]
    },
    {
      "cell_type": "markdown",
      "metadata": {
        "id": "U9g5Mgg7PEkD"
      },
      "source": [
        "Las restricciones de este problema son que la asignación de partidos tiene que tener, sí o sí, partidos los lunes y viernes. Para entender la implementación de las restricciones, hay que saber las posibilidades sobre las que se van a aplicar las restricciones. La forma en la que yo he planteado el problema es que disponemos de 10 horarios. Esos horarios se pueden repetir, no es necesario utilizar todos y sí importa el orden. Por tanto, las posibilidades del problema se rigen bajo una variación con repetición. Además, tenemos 10 partidos (al tratarse de 20 equipos en total) que se deben ajustar a los horarios disponibles, aunque no sea necesario utilizar todos los horarios.\n",
        "\n",
        "De esta manera, todas las posibilidades que tenemos en el problema son:\n",
        "\n",
        "$$ VR_{10,10} = 10^{10} = 10.000.000.000 $$\n",
        "\n",
        "Si aplicamos las restricciones de jugar partidos los viernes y los sábados, se reducen el número de posibildades sobre unas 4 mil millones. Esto es porque sí o sí se tienen que utilizar dos horarios, siendo los otros 8 sometidos a una variación con repetición, puesto que no es necesario tener que utilizar todos los valores posibles, es importante el orden y se pueden repetir.\n",
        "\n",
        "$$ 10^{10} - 2*9^{10} + 8^{10} = 4.100.173.022 $$\n",
        "\n",
        "En mi código he aplicado una condición para seleccionar, dentro de las posibilidades proporcionadas por la variación con repetición, aquellas opciones en las que se encuentren el horario de viernes y el del lunes. A continuación, un extracto del código en el que aplica la restricción."
      ]
    },
    {
      "cell_type": "code",
      "execution_count": null,
      "metadata": {
        "id": "V-cYiFiOPEkD"
      },
      "outputs": [],
      "source": [
        "# Implementación de la restricción en código\n",
        "variaciones_con_repeticion_2 = []\n",
        "for item in variaciones_con_repeticion:\n",
        "    if 'V20' in item and 'L20' in item:\n",
        "        variaciones_con_repeticion_2.append(item)"
      ]
    },
    {
      "cell_type": "markdown",
      "metadata": {
        "id": "HZz52wOppp-U"
      },
      "source": [
        "### Análisis\n",
        "\n",
        "- ¿Que complejidad tiene el problema?. Orden de complejidad y contabilizar el espacio de soluciones"
      ]
    },
    {
      "cell_type": "code",
      "execution_count": null,
      "metadata": {
        "id": "CZ-5BmpspttV"
      },
      "outputs": [],
      "source": [
        "#Respuesta"
      ]
    },
    {
      "cell_type": "markdown",
      "metadata": {
        "id": "9bbaRgnWPEkD"
      },
      "source": [
        "El análisis de la complejidad del problema la he hecho mediante un algoritmo de fuerza bruta. Así, podemos analizar la peor situación posible en términos de complejidad. De esta manera, los algoritmos que se intenten implementar posteriormente, serán mejores computacionalmente hablando.\n",
        "\n",
        "A continuación, vamos a analizar el orden de complejidad del problema poco a poco, viendo cada función por separado."
      ]
    },
    {
      "cell_type": "code",
      "execution_count": null,
      "metadata": {
        "id": "Jc37gLxFPEkD"
      },
      "outputs": [],
      "source": [
        "# Función generar jornada\n",
        "def generar_jornada(equipos_por_categoria, numero_partidos):\n",
        "    todos_los_equipos = []\n",
        "    for equipos in equipos_por_categoria.values():\n",
        "      todos_los_equipos.extend(equipos)\n",
        "    jornada = []\n",
        "    while len(jornada) < numero_partidos:\n",
        "      equipo_1 = random.choice(todos_los_equipos)\n",
        "      todos_los_equipos.remove(equipo_1)\n",
        "      equipo_2 = random.choice(todos_los_equipos)\n",
        "      todos_los_equipos.remove(equipo_2)\n",
        "      jornada.append([equipo_1, equipo_2])\n",
        "    return jornada"
      ]
    },
    {
      "cell_type": "markdown",
      "metadata": {
        "id": "3ttUOhI-PEkD"
      },
      "source": [
        "La función se encarga de formar los partidos haciendo una selección de 2 en 2 de entre todos los equipos introducidos. Consta de dos procesos:\n",
        "\n",
        "1. **Recopilación de todos los equipos**: En este paso, se recorren todos los valores del diccionario 'equipos_por_categoria' y se concatenan todos los equipos en una lista. Este paso tiene un coste computacional de O(n), siendo 'n' la suma de la cantidad de equipos introducidos en la función.\n",
        "\n",
        "2. **Selección de equipos por cada partido**: Se seleccionan dos equipos aleatorios de la lista anterior, hasta que se hayan formado todos los partidos posibles (n/2). Al formar cada partido por dos equipos y luego eliminar los equipos de la lista, la complejidad de la operación es de O(k), siendo 'k' el número de partidos a generar.\n",
        "\n",
        "Por lo tanto, el orden de complejidad de la función quedaría:\n",
        "\n",
        "$$ O(n+k) = O(n + n/2) $$"
      ]
    },
    {
      "cell_type": "code",
      "execution_count": null,
      "metadata": {
        "id": "5TV0lBpiPEkD"
      },
      "outputs": [],
      "source": [
        "# Función generar categorías\n",
        "def generar_categorias(jornada, dct):\n",
        "    def categoria(equipo):\n",
        "      for categoria, equipos in dct.items():\n",
        "        if equipo in equipos:\n",
        "          return categoria\n",
        "      return None\n",
        "\n",
        "    jornada_por_categoria = []\n",
        "    for partido in jornada:\n",
        "      partido_categoria = [categoria(equipo) for equipo in partido]\n",
        "      jornada_por_categoria.append(partido_categoria)\n",
        "    return jornada_por_categoria"
      ]
    },
    {
      "cell_type": "markdown",
      "metadata": {
        "id": "r8q2G0LgPEkE"
      },
      "source": [
        "Esta función se encarga de aplicar la categoría de los equipos a los partidos formados en la función anterior. Este paso se realiza principalmente para poder aplicarle la base de espectadores en el algoritmo que queramos implementar.\n",
        "\n",
        "1. **Asignación de categoría a cada equipo por partido**: En esta parte de la función, para cada equipo en cada partido, iteramos sobre todas las categorías del diccionario 'dct' para encontrar la categoría a la que pertenece el equipo. Esto implica una iteración sobre todas las categorías para cada equipo en cada partido, lo que resulta en una complejidad de O(k*n) donde 'k' es el número de partidos y 'n' el número de categorías.\n",
        "\n",
        "2. **Construcción de la lista 'jornada_por_categoria'**: Después de determinar la categoría para cada equipo en cada partido, construimos una lista de listas 'jornada_por_categoria' que contiene estas categorías. Esto simplemente implica un recorrido lineal de la lista 'jornada', que tiene un coste de O(k), donde 'k' es el número de partidos.\n",
        "\n",
        "Por lo tanto, el orden de complejidad total de la función es O(k*n), siendo 'k' el número de partidos y 'n' el número de categorías del diccionario 'dct'."
      ]
    },
    {
      "cell_type": "code",
      "execution_count": null,
      "metadata": {
        "id": "mMfwrymvPEkE"
      },
      "outputs": [],
      "source": [
        "# Función algoritmo de fuerza bruta\n",
        "def algoritmo_fuerza_bruta(jornada, audiencia_por_partido, reduccion_por_horario, ponderacion_por_coincidencias):\n",
        "    jornada_espectadores = {}\n",
        "    for partido, partido_categorias in jornada.items():\n",
        "       partido_categorias = tuple(partido_categorias)\n",
        "       if partido_categorias in audiencia_por_partido:\n",
        "          jornada_espectadores[partido] = audiencia_por_partido[partido_categorias]\n",
        "\n",
        "    horarios = list(reduccion_por_horario.keys())\n",
        "\n",
        "    longitud_variacion = 8\n",
        "    variaciones_con_repeticion = list(product(horarios, repeat=longitud_variacion))\n",
        "\n",
        "    variaciones_con_repeticion_2 = []\n",
        "    for item in variaciones_con_repeticion:\n",
        "       if 'V20' in item and 'L20' in item:\n",
        "          variaciones_con_repeticion_2.append(item)\n",
        "\n",
        "    resultado = {}\n",
        "    mejor_resultado = 0\n",
        "    for jornada in variaciones_con_repeticion_2:\n",
        "       resultado_jornada  = {}\n",
        "       for horario, (partido, espectadores) in zip(jornada, jornada_espectadores.items()):\n",
        "          lista_partido_espectadores = [partido, espectadores * reduccion_por_horario[horario]]\n",
        "          if horario in resultado_jornada:\n",
        "             resultado_jornada[horario].append(lista_partido_espectadores)\n",
        "          else:\n",
        "             resultado_jornada[horario] = [lista_partido_espectadores]\n",
        "\n",
        "       for lista_listas in resultado_jornada.values():\n",
        "          if len(lista_listas) in ponderacion_por_coincidencias and len(lista_listas) > 1:\n",
        "             for lista in lista_listas:\n",
        "                lista[1] *= ponderacion_por_coincidencias[len(lista_listas)]\n",
        "\n",
        "       suma_total = 0\n",
        "       for lista_listas in resultado_jornada.values():\n",
        "          for lista in lista_listas:\n",
        "             suma_total += lista[1]\n",
        "\n",
        "       if suma_total > mejor_resultado:\n",
        "          mejor_resultado = suma_total\n",
        "          resultado = resultado_jornada\n",
        "\n",
        "    return resultado, mejor_resultado"
      ]
    },
    {
      "cell_type": "markdown",
      "metadata": {
        "id": "79zKFjRRPEkE"
      },
      "source": [
        "Esta función utiliza como datos de entrada los diccionarios que hemos analizado en los puntos anteriores: 'audiencia_por_partido', 'reduccion_por_horario' y 'ponderacion_por_coincidencias'. Además, se introduce la jornada de partidos y categorías que se han obtenido con las otras funciones.\n",
        "\n",
        "1. **Recopilación de información sobre la audiencia por partido**: Recorre todos los partidos en la jornada y verifica si la combinación de categorías del partido está presente en el diccionario 'audiencia_por_partido'. Esta operación tiene un coste de O(k), donde 'k' es el número de partidos en la jornada.\n",
        "\n",
        "2. **Generación de todas las posibles variaciones con repetición de horarios**: Genera todas las posibles variaciones con repetición de longitud 'n' (en el código 'n' vale 8 por una cuestión de límite computacional para generar las opciones. Realmente, deberían ser 10 porque son los horarios totales posibles) utilizando la función 'product()' de 'itertools'. Dado que hay 'm' partidos y 'n' horarios, el número total de variaciones con repetición es:\n",
        "\n",
        "$$ O(n^{m}) $$\n",
        "\n",
        "3. **Filtrado de variaciones de horarios**: Filtra las variaciones generadas para incluir solo aquellas que contienen tanto 'V20' como 'L20'. Este paso tiene un costo constante.\n",
        "\n",
        "4. **Cálculo del resultado para cada variación de horarios**: Para cada variación de horarios filtrada, calcula el resultado total sumando la audiencia ponderada de los partidos en cada horario. El costo total de este paso depende del número de variaciones de horarios consideradas.\n",
        "\n",
        "En resumen, el algoritmo de fuerza bruta tiene un orden de complejidad aproximado de:\n",
        "\n",
        "$$ O(k * n^{m}) $$\n",
        "\n",
        "Esto significa que el tiempo de ejecución del algoritmo aumenta exponencialmente con respecto al número de horarios disponibles."
      ]
    },
    {
      "cell_type": "markdown",
      "metadata": {
        "id": "XDWwyPSTPEkE"
      },
      "source": [
        "La contabilización del espacio de soluciones se ha analizado en apartados anteriores. Por resumir, se aplica una variación con repetición de 10 partidos y 10 horarios, a los que hay que seleccionar las opciones que incluyan 'V20' y 'L20'. El total de espacio de soluciones es:\n",
        "\n",
        "$$ 10^{10} - 2*9^{10} + 8^{10} = 4.100.173.022 $$"
      ]
    },
    {
      "cell_type": "markdown",
      "metadata": {
        "id": "ixEJUwH_pv7M"
      },
      "source": [
        "### Diseño\n",
        "\n",
        "- ¿Que técnica utilizo? ¿Por qué?"
      ]
    },
    {
      "cell_type": "code",
      "execution_count": null,
      "metadata": {
        "id": "bt84iS-KPEkE"
      },
      "outputs": [],
      "source": [
        "# Respuesta"
      ]
    },
    {
      "cell_type": "markdown",
      "metadata": {
        "id": "qvygIi_IQZi4"
      },
      "source": [
        "**Algoritmo de Fuerza Bruta**"
      ]
    },
    {
      "cell_type": "markdown",
      "metadata": {
        "id": "d4eJHKEVPEkE"
      },
      "source": [
        "La primera técnica que utilizo es un algoritmo de fuerza bruta. Principalmente, la he utilizado porque quería comprobar el límite computacional en la ejecución del código para el peor caso posible. Un algoritmo de fuerza bruta es una técnica de resolución de problemas que implica probar sistemáticamente todas las posibles soluciones para encontrar la que cumpla con ciertos criterios o restricciones. Es una estrategia simple pero poderosa, aunque son impracticables para problemas con grandes conjuntos de datos debido a su alto tiempo de ejecución, como sucede en este problema.\n",
        "\n",
        "Como era de esperar, para un problema con 10 mil millones de posibilidades, el ordenador no ha sido capaz de ejecutar todos los posibles resultados. Es por ello, que he tenido que reducir el número de horarios hasta poder tener una solución por parte del algoritmo. He priorizado dejar los 10 partidos de la jornada. Sin embargo, el límite lo he ido poniendo en los horarios. Para 9 y 10 horarios (variable 'longitud_variacion' en la función 'algoritmo_fuerza_bruta'), el ordenador no es capaz de proporcionarme una solución. Sin embargo, para una cantidad de 8 horarios sí que he podido proporcionar resultados del número de espectadores. Suele tardar sobre un minuto y medio, aunque en Google Colab no es capaz de ejecutarse.\n",
        "\n",
        "A continuación, voy a proporcionar un resumen sobre el algoritmo, porque ya se ha explicado en el apartado anterior de coste computacional. En primer lugar, genero los 10 partidos de forma aleatoria con la función 'generar_jornada'. Después, se aplica la función 'generar_categorias' a los partidos obtenidos, y así saber qué base de espectadores tendrá cada partido. Los partidos y sus categorías se incluyen en un diccionario para proporcionárselos al algoritmo de fuerza bruta. El algoritmo genera todas las posibilidades, trabajando con los horarios y las restricciones, y muestra como salida la jornada que más espectadores totales ha encontrado."
      ]
    },
    {
      "cell_type": "code",
      "execution_count": null,
      "metadata": {
        "colab": {
          "base_uri": "https://localhost:8080/"
        },
        "id": "k6XNqypEVqic",
        "outputId": "aa48797b-3505-454f-c15b-e235b3583114"
      },
      "outputs": [
        {
          "name": "stdout",
          "output_type": "stream",
          "text": [
            "Jornada generada aleatoriamente:\n",
            "[['Leganés', 'Sevilla'], ['Osasuna', 'Valladolid'], ['Villarreal', 'Athletic Club'], ['Betis', 'Alavés'], ['Espanyol', 'Barcelona'], ['Real Madrid', 'Valencia'], ['Mallorca', 'Getafe'], ['Celta', 'Eibar'], ['Granada', 'Atlético de Madrid'], ['Levante', 'Real Sociedad']]\n",
            "\n",
            "Resultado:\n",
            "{'V20': [[('Leganés', 'Sevilla'), 0.30000000000000004]], 'L20': [[('Osasuna', 'Valladolid'), 0.188]], 'S18': [[('Villarreal', 'Athletic Club'), 0.7200000000000001]], 'D18': [[('Betis', 'Alavés'), 0.765]], 'S20': [[('Espanyol', 'Barcelona'), 1.3]], 'D20': [[('Real Madrid', 'Valencia'), 1.3]], 'S16': [[('Mallorca', 'Getafe'), 0.5249999999999999]], 'D16': [[('Celta', 'Eibar'), 0.5625]]}\n",
            "\n",
            "Espectadores: 5.66 millones\n",
            "\n",
            "Tiempo transcurrido: 80.95 segundos\n"
          ]
        }
      ],
      "source": [
        "# Algoritmo de Fuerza Bruta\n",
        "from itertools import product\n",
        "import random\n",
        "import time\n",
        "\n",
        "def algoritmo_fuerza_bruta(jornada, audiencia_por_partido, reduccion_por_horario, ponderacion_por_coincidencias):\n",
        "    jornada_espectadores = {}\n",
        "    for partido, partido_categorias in jornada.items():\n",
        "       partido_categorias = tuple(partido_categorias)\n",
        "       if partido_categorias in audiencia_por_partido:\n",
        "          jornada_espectadores[partido] = audiencia_por_partido[partido_categorias]\n",
        "\n",
        "    horarios = list(reduccion_por_horario.keys())\n",
        "\n",
        "    longitud_variacion = 8\n",
        "    variaciones_con_repeticion = list(product(horarios, repeat=longitud_variacion))\n",
        "\n",
        "    variaciones_con_repeticion_2 = []\n",
        "    for item in variaciones_con_repeticion:\n",
        "       if 'V20' in item and 'L20' in item:\n",
        "          variaciones_con_repeticion_2.append(item)\n",
        "\n",
        "    resultado = {}\n",
        "    mejor_resultado = 0\n",
        "    for jornada in variaciones_con_repeticion_2:\n",
        "       resultado_jornada  = {}\n",
        "       for horario, (partido, espectadores) in zip(jornada, jornada_espectadores.items()):\n",
        "          lista_partido_espectadores = [partido, espectadores * reduccion_por_horario[horario]]\n",
        "          if horario in resultado_jornada:\n",
        "             resultado_jornada[horario].append(lista_partido_espectadores)\n",
        "          else:\n",
        "             resultado_jornada[horario] = [lista_partido_espectadores]\n",
        "\n",
        "       for lista_listas in resultado_jornada.values():\n",
        "          if len(lista_listas) in ponderacion_por_coincidencias and len(lista_listas) > 1:\n",
        "             for lista in lista_listas:\n",
        "                lista[1] *= ponderacion_por_coincidencias[len(lista_listas)]\n",
        "\n",
        "       suma_total = 0\n",
        "       for lista_listas in resultado_jornada.values():\n",
        "          for lista in lista_listas:\n",
        "             suma_total += lista[1]\n",
        "\n",
        "       if suma_total > mejor_resultado:\n",
        "          mejor_resultado = suma_total\n",
        "          resultado = resultado_jornada\n",
        "\n",
        "    return resultado, mejor_resultado\n",
        "\n",
        "def generar_jornada(equipos_por_categoria, numero_partidos):\n",
        "    todos_los_equipos = []\n",
        "    for equipos in equipos_por_categoria.values():\n",
        "      todos_los_equipos.extend(equipos)\n",
        "    jornada = []\n",
        "    while len(jornada) < numero_partidos:\n",
        "      equipo_1 = random.choice(todos_los_equipos)\n",
        "      todos_los_equipos.remove(equipo_1)\n",
        "      equipo_2 = random.choice(todos_los_equipos)\n",
        "      todos_los_equipos.remove(equipo_2)\n",
        "      jornada.append([equipo_1, equipo_2])\n",
        "    return jornada\n",
        "\n",
        "def generar_categorias(jornada, dct):\n",
        "    def categoria(equipo):\n",
        "      for categoria, equipos in dct.items():\n",
        "        if equipo in equipos:\n",
        "          return categoria\n",
        "      return None\n",
        "\n",
        "    jornada_por_categoria = []\n",
        "    for partido in jornada:\n",
        "      partido_categoria = [categoria(equipo) for equipo in partido]\n",
        "      jornada_por_categoria.append(partido_categoria)\n",
        "    return jornada_por_categoria\n",
        "\n",
        "inicio = time.time()\n",
        "\n",
        "equipos_por_categoria = {\n",
        "    \"A\": [\"Real Madrid\", \"Barcelona\", \"Atlético de Madrid\"],\n",
        "    \"B\": [\"Real Sociedad\", \"Celta\", \"Valencia\", \"Athletic Club\", \"Villarreal\", \"Alavés\", \"Levante\", \"Espanyol\", \"Sevilla\", \"Betis\", \"Getafe\"],\n",
        "    \"C\": [\"Mallorca\", \"Eibar\", \"Leganés\", \"Osasuna\", \"Granada\", \"Valladolid\"]\n",
        "}\n",
        "\n",
        "audiencia_por_partido = {\n",
        "    (\"A\", \"A\"): 2,\n",
        "    (\"A\", \"B\"): 1.3,\n",
        "    (\"A\", \"C\"): 1,\n",
        "    (\"B\", \"A\"): 1.3,\n",
        "    (\"B\", \"B\"): 0.9,\n",
        "    (\"B\", \"C\"): 0.75,\n",
        "    (\"C\", \"A\"): 1,\n",
        "    (\"C\", \"B\"): 0.75,\n",
        "    (\"C\", \"C\"): 0.47\n",
        "}\n",
        "\n",
        "reduccion_por_horario = {\n",
        "    \"V20\": 0.4,\n",
        "    \"S12\": 0.55,\n",
        "    \"S16\": 0.7,\n",
        "    \"S18\": 0.8,\n",
        "    \"S20\": 1,\n",
        "    \"D12\": 0.45,\n",
        "    \"D16\": 0.75,\n",
        "    \"D18\": 0.85,\n",
        "    \"D20\": 1,\n",
        "    \"L20\": 0.4\n",
        "}\n",
        "\n",
        "ponderacion_por_coincidencias = {\n",
        "    1: 1,\n",
        "    2: 0.75,\n",
        "    3: 0.55,\n",
        "    4: 0.4,\n",
        "    5: 0.3,\n",
        "    6: 0.25,\n",
        "    7: 0.22,\n",
        "    8: 0.2,\n",
        "    9: 0.2\n",
        "}\n",
        "\n",
        "jornada = generar_jornada(equipos_por_categoria, 10)\n",
        "print(\"Jornada generada aleatoriamente:\\n{}\".format(jornada))\n",
        "\n",
        "jornada_por_categorias = generar_categorias(jornada, equipos_por_categoria)\n",
        "# print(\"\\nJornada anterior por categorías de equipos:\\n{}\".format(jornada_por_categorias))\n",
        "\n",
        "jornada_diccionario = {tuple(equipo): categoria for equipo, categoria in zip(jornada, jornada_por_categorias)}\n",
        "# print(\"\\nJornada diccionario:\\n{}\".format(jornada_diccionario))\n",
        "\n",
        "resultado, espectadores = algoritmo_fuerza_bruta(jornada_diccionario, audiencia_por_partido, reduccion_por_horario, ponderacion_por_coincidencias)\n",
        "print(f\"\\nResultado:\\n{resultado}\")\n",
        "print(f\"\\nEspectadores: {espectadores:.2f} millones\")\n",
        "\n",
        "fin = time.time()\n",
        "\n",
        "tiempo_transcurrido = fin - inicio\n",
        "print(\"\\nTiempo transcurrido:\", round(tiempo_transcurrido, 2), \"segundos\")"
      ]
    },
    {
      "cell_type": "markdown",
      "metadata": {
        "id": "DOsBevQBPEkF"
      },
      "source": [
        "**Algoritmo de Búsqueda aleatoria**"
      ]
    },
    {
      "cell_type": "markdown",
      "metadata": {
        "id": "pw2kf4I1PEkF"
      },
      "source": [
        "Un algoritmo de búsqueda aleatoria es una técnica de resolución de problemas que utiliza un enfoque de búsqueda basado en la generación aleatoria de soluciones. A diferencia de los algoritmos de fuerza bruta, que consideran sistemáticamente todas las posibles soluciones, un algoritmo de búsqueda aleatoria selecciona soluciones al azar y las evalúa para ver si cumplen con los criterios de optimización del problema.\n",
        "\n",
        "Los algoritmos de búsqueda aleatoria son útiles cuando el espacio de búsqueda es grande y no es factible o práctico explorar todas las posibles soluciones, como sucede en nuestro problema. Sin embargo, su eficacia depende en gran medida de la calidad de la función de evaluación y de la capacidad de generar soluciones aleatorias que sean prometedoras en términos de los criterios de optimización del problema.\n",
        "\n",
        "Este algoritmo lo utilizo porque tiene una implementación sencilla y, aunque creo que no es del todo bueno, puede proporcionar soluciones factibles sobre todo el espectro de soluciones. Aquí, por ejemplo, sí que se pueden utilizar todos los horarios y todos los partidos posibles, a diferencia del algoritmo de fuerza bruta que no era capaz de proporcionar ninguna solución."
      ]
    },
    {
      "cell_type": "code",
      "execution_count": null,
      "metadata": {
        "id": "znjGaX4tPEkF",
        "outputId": "4e18522d-7364-471b-a409-9200ff475d22"
      },
      "outputs": [
        {
          "name": "stdout",
          "output_type": "stream",
          "text": [
            "Jornada generada aleatoriamente:\n",
            "[['Sevilla', 'Athletic Club'], ['Celta', 'Valencia'], ['Villarreal', 'Mallorca'], ['Leganés', 'Barcelona'], ['Real Sociedad', 'Espanyol'], ['Granada', 'Valladolid'], ['Alavés', 'Levante'], ['Osasuna', 'Eibar'], ['Betis', 'Real Madrid'], ['Getafe', 'Atlético de Madrid']]\n",
            "\n",
            "Resultado:\n",
            "{'S18': [[('Sevilla', 'Athletic Club'), 0.7200000000000001]], 'D18': [[('Celta', 'Valencia'), 0.765]], 'D12': [[('Villarreal', 'Mallorca'), 0.3375]], 'D16': [[('Leganés', 'Barcelona'), 0.75]], 'S12': [[('Real Sociedad', 'Espanyol'), 0.49500000000000005]], 'V20': [[('Granada', 'Valladolid'), 0.188]], 'S16': [[('Alavés', 'Levante'), 0.63]], 'L20': [[('Osasuna', 'Eibar'), 0.188]], 'S20': [[('Betis', 'Real Madrid'), 1.3]], 'D20': [[('Getafe', 'Atlético de Madrid'), 1.3]]}\n",
            "\n",
            "Espectadores: 6.67 millones\n",
            "\n",
            "Tiempo transcurrido: 89.19 segundos\n"
          ]
        }
      ],
      "source": [
        "# Algoritmo de Búsqueda Aleatoria\n",
        "import random\n",
        "import time\n",
        "\n",
        "def busqueda_aleatoria(n, equipos_por_categoria, audiencia_por_partido, reduccion_por_horario, ponderacion_por_coincidencias):\n",
        "    jornada = generar_jornada(equipos_por_categoria, 10)\n",
        "    jornada_por_categorias = generar_categorias(jornada, equipos_por_categoria)\n",
        "    jornada_diccionario = {tuple(equipo): categoria for equipo, categoria in zip(jornada, jornada_por_categorias)}\n",
        "\n",
        "    jornada_espectadores = {}\n",
        "    for partido, partido_categorias in jornada_diccionario.items():\n",
        "       partido_categorias = tuple(partido_categorias)\n",
        "       if partido_categorias in audiencia_por_partido:\n",
        "          jornada_espectadores[partido] = audiencia_por_partido[partido_categorias]\n",
        "\n",
        "    lista_horarios = list(reduccion_por_horario.keys())\n",
        "\n",
        "    resultado = {}\n",
        "    mejor_resultado = 0\n",
        "    i = 0\n",
        "    while i < n:\n",
        "      horarios = generar_solucion(lista_horarios, 10)\n",
        "      resultado_solucion = {}\n",
        "      for horario, (partido, espectadores) in zip(horarios, jornada_espectadores.items()):\n",
        "        lista_partido_espectadores = [partido, espectadores * reduccion_por_horario[horario]]\n",
        "        if horario in resultado_solucion:\n",
        "            resultado_solucion[horario].append(lista_partido_espectadores)\n",
        "        else:\n",
        "            resultado_solucion[horario] = [lista_partido_espectadores]\n",
        "\n",
        "      for lista_listas in resultado_solucion.values():\n",
        "            if len(lista_listas) in ponderacion_por_coincidencias and len(lista_listas) > 1:\n",
        "              for lista in lista_listas:\n",
        "                  lista[1] *= ponderacion_por_coincidencias[len(lista_listas)]\n",
        "\n",
        "      suma_total = 0\n",
        "      for lista_listas in resultado_solucion.values():\n",
        "        for lista in lista_listas:\n",
        "          suma_total += lista[1]\n",
        "\n",
        "      if suma_total > mejor_resultado:\n",
        "        mejor_resultado = suma_total\n",
        "        resultado = resultado_solucion\n",
        "\n",
        "      i += 1\n",
        "\n",
        "    return resultado, mejor_resultado, jornada\n",
        "\n",
        "def generar_jornada(equipos_por_categoria, numero_partidos):\n",
        "    todos_los_equipos = []\n",
        "    for equipos in equipos_por_categoria.values():\n",
        "      todos_los_equipos.extend(equipos)\n",
        "    jornada = []\n",
        "    while len(jornada) < numero_partidos:\n",
        "      equipo_1 = random.choice(todos_los_equipos)\n",
        "      todos_los_equipos.remove(equipo_1)\n",
        "      equipo_2 = random.choice(todos_los_equipos)\n",
        "      todos_los_equipos.remove(equipo_2)\n",
        "      jornada.append([equipo_1, equipo_2])\n",
        "    return jornada\n",
        "\n",
        "def generar_categorias(jornada, dct):\n",
        "    def categoria(equipo):\n",
        "      for categoria, equipos in dct.items():\n",
        "        if equipo in equipos:\n",
        "          return categoria\n",
        "      return None\n",
        "\n",
        "    jornada_por_categoria = []\n",
        "    for partido in jornada:\n",
        "      partido_categoria = [categoria(equipo) for equipo in partido]\n",
        "      jornada_por_categoria.append(partido_categoria)\n",
        "    return jornada_por_categoria\n",
        "\n",
        "def generar_solucion(conjunto, longitud_variacion):\n",
        "   while True:\n",
        "     variacion = list(random.choice(conjunto) for _ in range(longitud_variacion))\n",
        "     if 'V20' in variacion and 'L20' in variacion:\n",
        "       return variacion\n",
        "\n",
        "inicio = time.time()\n",
        "\n",
        "equipos_por_categoria = {\n",
        "    \"A\": [\"Real Madrid\", \"Barcelona\", \"Atlético de Madrid\"],\n",
        "    \"B\": [\"Real Sociedad\", \"Celta\", \"Valencia\", \"Athletic Club\", \"Villarreal\", \"Alavés\", \"Levante\", \"Espanyol\", \"Sevilla\", \"Betis\", \"Getafe\"],\n",
        "    \"C\": [\"Mallorca\", \"Eibar\", \"Leganés\", \"Osasuna\", \"Granada\", \"Valladolid\"]\n",
        "}\n",
        "\n",
        "audiencia_por_partido = {\n",
        "    (\"A\", \"A\"): 2,\n",
        "    (\"A\", \"B\"): 1.3,\n",
        "    (\"A\", \"C\"): 1,\n",
        "    (\"B\", \"A\"): 1.3,\n",
        "    (\"B\", \"B\"): 0.9,\n",
        "    (\"B\", \"C\"): 0.75,\n",
        "    (\"C\", \"A\"): 1,\n",
        "    (\"C\", \"B\"): 0.75,\n",
        "    (\"C\", \"C\"): 0.47\n",
        "}\n",
        "\n",
        "reduccion_por_horario = {\n",
        "    \"V20\": 0.4,\n",
        "    \"S12\": 0.55,\n",
        "    \"S16\": 0.7,\n",
        "    \"S18\": 0.8,\n",
        "    \"S20\": 1,\n",
        "    \"D12\": 0.45,\n",
        "    \"D16\": 0.75,\n",
        "    \"D18\": 0.85,\n",
        "    \"D20\": 1,\n",
        "    \"L20\": 0.4\n",
        "}\n",
        "\n",
        "ponderacion_por_coincidencias = {\n",
        "    1: 1,\n",
        "    2: 0.75,\n",
        "    3: 0.55,\n",
        "    4: 0.4,\n",
        "    5: 0.3,\n",
        "    6: 0.25,\n",
        "    7: 0.22,\n",
        "    8: 0.2,\n",
        "    9: 0.2\n",
        "}\n",
        "\n",
        "resultado, espectadores, jornada = busqueda_aleatoria(10000000, equipos_por_categoria, audiencia_por_partido, reduccion_por_horario, ponderacion_por_coincidencias)\n",
        "\n",
        "print(\"Jornada generada aleatoriamente:\\n{}\".format(jornada))\n",
        "print(f\"\\nResultado:\\n{resultado}\")\n",
        "print(f\"\\nEspectadores: {espectadores:.2f} millones\")\n",
        "\n",
        "fin = time.time()\n",
        "\n",
        "tiempo_transcurrido = fin - inicio\n",
        "print(\"\\nTiempo transcurrido:\", round(tiempo_transcurrido, 2), \"segundos\")"
      ]
    },
    {
      "cell_type": "markdown",
      "metadata": {
        "id": "tqwoCFQyPEkG"
      },
      "source": [
        "La implementación que he realizado para el algoritmo de búsqueda aleatoria, consiste en generar una jornada de forma aleatoria y añadirle los espectadores que tendría cada partido en hora punta, en un diccionario. Posteriormente, comienzo un bucle que se repetirá tantas iteraciones como se quiera (en el código he utilizado 10.000.000 de iteraciones). Consiste en generar aleatoriamente un único horario para los partidos, aplicarle las penalizaciones por coincidencias y horarios, y luego sumar el número de espectadores de esa jornada. Este proceso se repetirá tantas veces como iteraciones le hayamos señalado a la función, escogiendo el mayor número de espectadores de todas las jornadas generadas.\n",
        "\n",
        "De esta manera, se ha conseguido implementar un algoritmo de búsqueda aleatoria para resolver el problema de organización de horarios de partidos de La Liga. Este algoritmo proporciona buenas resoluciones y en tiempos de ejecución relativamente cortos. Además, tiene la ventaja con respecto del algoritmo de fuerza bruta, de generar horarios para todos los partidos, sin dejar ninguno fuera por tema de coste computacional."
      ]
    }
  ],
  "metadata": {
    "colab": {
      "provenance": []
    },
    "kernelspec": {
      "display_name": "Python 3",
      "name": "python3"
    },
    "language_info": {
      "codemirror_mode": {
        "name": "ipython",
        "version": 3
      },
      "file_extension": ".py",
      "mimetype": "text/x-python",
      "name": "python",
      "nbconvert_exporter": "python",
      "pygments_lexer": "ipython3",
      "version": "3.11.6"
    }
  },
  "nbformat": 4,
  "nbformat_minor": 0
}